{
 "cells": [
  {
   "cell_type": "markdown",
   "id": "08644d6b",
   "metadata": {},
   "source": [
    "\n",
    "# ResearchTrack2 Assignment 1.2\n",
    "\n",
    "## Libraries and initialization"
   ]
  },
  {
   "cell_type": "code",
   "execution_count": null,
   "id": "89f0a00e",
   "metadata": {},
   "outputs": [],
   "source": [
    "import ipywidgets as widgets\n",
    "from ipywidgets import Button, Layout, ButtonStyle, GridBox, VBox, HBox\n",
    "\n",
    "%matplotlib notebook\n",
    "import matplotlib.pyplot as plt\n",
    "import numpy as np\n",
    "import rospy\n",
    "import tf\n",
    "import actionlib\n",
    "import actionlib.msg\n",
    "import sys\n",
    "import select\n",
    "import assignment_2_2022.msg \n",
    "from std_srvs.srv import *\n",
    "from nav_msgs.msg import Odometry\n",
    "from geometry_msgs.msg import Point, Pose, Twist\n",
    "from assignment_2_2022.msg import Position_velocity\n",
    "from sensor_msgs.msg import LaserScan\n",
    "from tf.transformations import quaternion_matrix\n",
    "from matplotlib.animation import FuncAnimation\n",
    "import matplotlib.animation as animation\n",
    "\n",
    "# initialize the node \n",
    "rospy.init_node('user_input')\n",
    "\n",
    "# initialize the publisher to send a msg (using the velocity and the position as parameters)\n",
    "pub = rospy.Publisher(\"/Position_velocity\", Position_velocity, queue_size = 1)\n",
    "\n",
    "# initialize the global variable necessary for the cell below\n",
    "actual_pos_x = 0\n",
    "actual_pos_y = 0\n",
    "\n",
    "goal_cancelled = 0\n",
    "goal_set = 0\n",
    "\n",
    "min_distance = 0\n"
   ]
  },
  {
   "cell_type": "markdown",
   "id": "6f8b2d84",
   "metadata": {},
   "source": [
    "## Action Client"
   ]
  },
  {
   "cell_type": "code",
   "execution_count": null,
   "id": "4369f7a6",
   "metadata": {},
   "outputs": [],
   "source": [
    "# create the action client\n",
    "client = actionlib.SimpleActionClient('/reaching_goal', assignment_2_2022.msg.PlanningAction)\n",
    "# wait for the server to be started\n",
    "client.wait_for_server()"
   ]
  },
  {
   "cell_type": "markdown",
   "id": "b1134f80",
   "metadata": {},
   "source": [
    "## Insert the goal and print the actual pose and the goals set and cancelled"
   ]
  },
  {
   "cell_type": "code",
   "execution_count": null,
   "id": "ebc3754a",
   "metadata": {},
   "outputs": [],
   "source": [
    "print(\"ENTER THE COORDINATES (x,y): \")\n",
    "positionX = widgets.FloatText(description = \"x\", layout=Layout(width='25%', align=\"center\", grid_area='pX'))\n",
    "positionY = widgets.FloatText(description = \"y\", layout=Layout(width='25%', align=\"center\", grid_area='pY'))\n",
    "button = widgets.Button(description=\"Send\", button_style='success', layout=Layout(width='25%', align=\"center\",\n",
    "grid_area='b1'), icon='check')\n",
    "button2 = widgets.Button(description=\"Cancel\", button_style='danger', layout=Layout(width='25%', align=\"center\",\n",
    "grid_area='b2'))\n",
    "box = VBox([HBox([positionX, positionY]), HBox([button, button2])])\n",
    "display(box)\n",
    "\n",
    "text_box_set = widgets.IntText(description=\"N° set goals\", value=goal_set, disabled=True)\n",
    "text_box_canc = widgets.IntText(description=\"N° can goals\", value=goal_cancelled, disabled=True)\n",
    "\n",
    "def send_goal(b):\n",
    "    global goal_set\n",
    "    global text_box_set, goal\n",
    "    # create the goal to send to the server\n",
    "    goal = assignment_2_2022.msg.PlanningGoal()\n",
    "    goal.target_pose.pose.position.x = positionX.value\n",
    "    goal.target_pose.pose.position.y = positionY.value\n",
    "    vis.draw_point(positionX.value, positionY.value, 'blue')\n",
    "    # send the goal to the action server\n",
    "    client.send_goal(goal)\n",
    "    goal_set += 1\n",
    "    text_box_set.value = goal_set\n",
    "    \n",
    "def cancel_goal(b):\n",
    "    global goal_cancelled\n",
    "    global text_box_canc\n",
    "    client.cancel_goal()\n",
    "    goal_cancelled += 1\n",
    "    text_box_canc.value = goal_cancelled \n",
    "    \n",
    "def disegna_grafico(valore1, valore2):\n",
    "    labels = ['Set', 'Cancelled']\n",
    "    mycolors = [\"green\", \"red\"]\n",
    "    sizes = [valore1, valore2]\n",
    "    fig, ax = plt.subplots()\n",
    "    ax.pie(sizes, labels=labels, autopct='%1.1f%%', startangle=90, colors = mycolors)\n",
    "    ax.axis('equal')\n",
    "    plt.title('Goals')\n",
    "    plt.show()\n",
    "    \n",
    "interactive_plot = widgets.interactive(disegna_grafico, valore1=text_box_set, valore2=text_box_canc)\n",
    "display(interactive_plot)\n",
    "    \n",
    "button.on_click(send_goal)\n",
    "button2.on_click(cancel_goal)"
   ]
  },
  {
   "cell_type": "markdown",
   "id": "f146b729",
   "metadata": {},
   "source": [
    "## Print the trajectory of the robot and the goals"
   ]
  },
  {
   "cell_type": "code",
   "execution_count": null,
   "id": "e645f437",
   "metadata": {
    "scrolled": true
   },
   "outputs": [],
   "source": [
    "class Visualiser:\n",
    "    def __init__(self):\n",
    "        self.fig, self.ax = plt.subplots()\n",
    "        self.ln, = plt.plot([], [], 'ko')\n",
    "        self.x_data, self.y_data = [] , []\n",
    "    def plot_init(self):\n",
    "        self.ax.set_xlim(10, -10)\n",
    "        self.ax.set_ylim(10, -10)\n",
    "        self.ax.grid(True)\n",
    "        return self.ln\n",
    "    def odom_callback(self, msg):\n",
    "        self.y_data.append(msg.pose.pose.position.y)\n",
    "        self.x_data.append(msg.pose.pose.position.x)\n",
    "    def update_plot(self, frame):\n",
    "        self.ln.set_data(self.x_data, self.y_data)\n",
    "        return self.ln\n",
    "    def draw_point(self, x, y, color):\n",
    "        self.ax.plot(x, y, color, marker='o')\n",
    "    def add_legend(self):\n",
    "        legend_labels = ['Goal_canc', 'Goal_reached', 'Next_goal']\n",
    "        colors = ['red', 'green', 'blue']\n",
    "        legend_elements = [\n",
    "            plt.Line2D([0], [0], marker='o', color=color, label=label, linestyle='None')\n",
    "            for color, label in zip(colors, legend_labels)\n",
    "        ]\n",
    "        self.ax.legend(handles=legend_elements)\n",
    "        \n",
    "vis = Visualiser()\n",
    "\n",
    "\n",
    "def publish_values(msg):\n",
    "    \n",
    "    global positionX,positionY,vis\n",
    "    # get the postion from the message\n",
    "    pos = msg.pose.pose.position\n",
    "\n",
    "    # get the twist from the message\n",
    "    velocity = msg.twist.twist.linear\n",
    "\n",
    "    # create custom message (of the type corresponding to the file in the msg folder)\n",
    "    position_and_velocity = Position_velocity()\n",
    "\n",
    "    # assign the parameters of the custom message\n",
    "    position_and_velocity.x = pos.x\n",
    "    position_and_velocity.y = pos.y\n",
    "    position_and_velocity.v_x = velocity.x\n",
    "    position_and_velocity.v_y = velocity.y\n",
    "    \n",
    "    global actual_pos_x\n",
    "    global actual_pos_y\n",
    "    actual_pos_x = pos.x\n",
    "    actual_pos_y = pos.y\n",
    "    text_box.value = f'{actual_pos_x:.6f}'\n",
    "    text_box2.value = f'{actual_pos_y:.6f}'\n",
    "    \n",
    "    \n",
    "\n",
    "    # Publish the custom message\n",
    "    pub.publish(position_and_velocity)\n",
    "\n",
    "            \n",
    "    \n",
    "rospy.Subscriber('/odom', Odometry, vis.odom_callback)\n",
    "ani = FuncAnimation(vis.fig, vis.update_plot, init_func=vis.plot_init)\n",
    "\n",
    "def result(msg):\n",
    "    global positionX,positionY,vis\n",
    "    # get the status of the result from the message\n",
    "    status = msg.status.status\n",
    "\n",
    "    # if status is equal 2, the goal was preempted (cancelled)\n",
    "    if status == 2:\n",
    "        vis.draw_point(positionX.value, positionY.value, 'red')\n",
    "    # if status is equal 3, the goal was reached\n",
    "    elif status == 3:\n",
    "        vis.draw_point(positionX.value, positionY.value, 'green')\n",
    "\n",
    "    \n",
    "sub_result = rospy.Subscriber('/reaching_goal/result', assignment_2_2022.msg.PlanningActionResult, result)\n",
    "vis.add_legend()\n",
    "plt.show(block=True)\n",
    "#subscribe to the topic /odom\n",
    "text_box = widgets.FloatText(description=\"Position x\", value=actual_pos_x, disabled=True, continuous_update=True)\n",
    "text_box2 = widgets.FloatText(description=\"Position y\", value=actual_pos_y, disabled=True, continuous_update=True)\n",
    "rospy.Subscriber(\"/odom\", Odometry, publish_values)\n",
    "print(\"ACTUAL POSE OF THE ROBOT: \")\n",
    "display(text_box, text_box2)"
   ]
  },
  {
   "cell_type": "markdown",
   "id": "c7352895",
   "metadata": {},
   "source": [
    "### Compute the distance from the closest obastacle"
   ]
  },
  {
   "cell_type": "code",
   "execution_count": null,
   "id": "f945d117",
   "metadata": {},
   "outputs": [],
   "source": [
    "text_box3 = widgets.FloatText(description=\"\", value=min_distance, disabled=True)\n",
    "\n",
    "def min_obstacle_distance(msg):\n",
    "    global min_distance\n",
    "    counter=0\n",
    "    min_distance = msg.ranges[0]\n",
    "    for i in msg.ranges:\n",
    "        if i<min_distance:\n",
    "            min_distance = i\n",
    "            \n",
    "            text_box3.value = f'{min_distance:.6f}'\n",
    "                \n",
    "            "
   ]
  },
  {
   "cell_type": "markdown",
   "id": "dc09b236",
   "metadata": {},
   "source": [
    "### Print the distance from the closest obastacle"
   ]
  },
  {
   "cell_type": "code",
   "execution_count": null,
   "id": "bd9067ca",
   "metadata": {
    "scrolled": true
   },
   "outputs": [],
   "source": [
    "rospy.Subscriber(\"/scan\", LaserScan, min_obstacle_distance)\n",
    "print(\"DISTANCE BETWEEN THE ACTUAL POSE AND THE NEAREST OBSTACLE: \")\n",
    "display(text_box3)"
   ]
  }
 ],
 "metadata": {
  "kernelspec": {
   "display_name": "Python 3 (ipykernel)",
   "language": "python",
   "name": "python3"
  },
  "language_info": {
   "codemirror_mode": {
    "name": "ipython",
    "version": 3
   },
   "file_extension": ".py",
   "mimetype": "text/x-python",
   "name": "python",
   "nbconvert_exporter": "python",
   "pygments_lexer": "ipython3",
   "version": "3.8.5"
  }
 },
 "nbformat": 4,
 "nbformat_minor": 5
}
